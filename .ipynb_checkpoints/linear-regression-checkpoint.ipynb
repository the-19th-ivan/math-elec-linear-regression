{
 "cells": [
  {
   "cell_type": "markdown",
   "id": "78415403-0e8d-4ab4-b0dc-48d595904a40",
   "metadata": {},
   "source": [
    "# Quiz No. 1\n",
    "\n",
    "A real estate agent wishes to examine the relationship between the selling price of a home and its size (measured in square feet)\n",
    "\n",
    "- A random sample of 10 houses is selected\n",
    "- Dependent variable (Y) = house price in $1000s\n",
    "- Independent variable (X) = square feet"
   ]
  },
  {
   "cell_type": "code",
   "execution_count": 1,
   "id": "f219db96-7fb8-45ea-92dc-8a38e6764739",
   "metadata": {},
   "outputs": [],
   "source": [
    "# Import necessary tools\n",
    "import numpy as np\n",
    "import pandas as pd\n",
    "import matplotlib.pyplot as plt"
   ]
  },
  {
   "cell_type": "markdown",
   "id": "f6a41412-8050-4e4c-ba6f-614f5ba4313e",
   "metadata": {},
   "source": [
    "## I put the data into a table (CSV File)"
   ]
  },
  {
   "cell_type": "code",
   "execution_count": 2,
   "id": "37aa059b-a20f-4a21-82b9-b87768f3e4de",
   "metadata": {
    "scrolled": true
   },
   "outputs": [
    {
     "data": {
      "text/html": [
       "<div>\n",
       "<style scoped>\n",
       "    .dataframe tbody tr th:only-of-type {\n",
       "        vertical-align: middle;\n",
       "    }\n",
       "\n",
       "    .dataframe tbody tr th {\n",
       "        vertical-align: top;\n",
       "    }\n",
       "\n",
       "    .dataframe thead th {\n",
       "        text-align: right;\n",
       "    }\n",
       "</style>\n",
       "<table border=\"1\" class=\"dataframe\">\n",
       "  <thead>\n",
       "    <tr style=\"text-align: right;\">\n",
       "      <th></th>\n",
       "      <th>Square Feet (X)</th>\n",
       "      <th>House Price (Y)</th>\n",
       "    </tr>\n",
       "  </thead>\n",
       "  <tbody>\n",
       "    <tr>\n",
       "      <th>0</th>\n",
       "      <td>1400</td>\n",
       "      <td>245</td>\n",
       "    </tr>\n",
       "    <tr>\n",
       "      <th>1</th>\n",
       "      <td>1600</td>\n",
       "      <td>312</td>\n",
       "    </tr>\n",
       "    <tr>\n",
       "      <th>2</th>\n",
       "      <td>1700</td>\n",
       "      <td>279</td>\n",
       "    </tr>\n",
       "    <tr>\n",
       "      <th>3</th>\n",
       "      <td>1875</td>\n",
       "      <td>308</td>\n",
       "    </tr>\n",
       "    <tr>\n",
       "      <th>4</th>\n",
       "      <td>1100</td>\n",
       "      <td>199</td>\n",
       "    </tr>\n",
       "    <tr>\n",
       "      <th>5</th>\n",
       "      <td>1550</td>\n",
       "      <td>219</td>\n",
       "    </tr>\n",
       "    <tr>\n",
       "      <th>6</th>\n",
       "      <td>2350</td>\n",
       "      <td>405</td>\n",
       "    </tr>\n",
       "    <tr>\n",
       "      <th>7</th>\n",
       "      <td>2450</td>\n",
       "      <td>324</td>\n",
       "    </tr>\n",
       "    <tr>\n",
       "      <th>8</th>\n",
       "      <td>1425</td>\n",
       "      <td>319</td>\n",
       "    </tr>\n",
       "    <tr>\n",
       "      <th>9</th>\n",
       "      <td>1700</td>\n",
       "      <td>255</td>\n",
       "    </tr>\n",
       "  </tbody>\n",
       "</table>\n",
       "</div>"
      ],
      "text/plain": [
       "   Square Feet (X)  House Price (Y)\n",
       "0             1400              245\n",
       "1             1600              312\n",
       "2             1700              279\n",
       "3             1875              308\n",
       "4             1100              199\n",
       "5             1550              219\n",
       "6             2350              405\n",
       "7             2450              324\n",
       "8             1425              319\n",
       "9             1700              255"
      ]
     },
     "execution_count": 2,
     "metadata": {},
     "output_type": "execute_result"
    }
   ],
   "source": [
    "# Get the data\n",
    "df = pd.read_csv(\"quiz-1-data.csv\")\n",
    "\n",
    "df_tmp = df.copy()\n",
    "\n",
    "# View data\n",
    "df"
   ]
  },
  {
   "cell_type": "markdown",
   "id": "657481ef-ac9a-4d4d-9ef4-d216ad7580fd",
   "metadata": {},
   "source": [
    "## Compute For Xy, X2, and Summations"
   ]
  },
  {
   "cell_type": "code",
   "execution_count": 3,
   "id": "a3efad11-5233-4507-9907-37370e6cc0e0",
   "metadata": {
    "scrolled": true
   },
   "outputs": [
    {
     "data": {
      "text/html": [
       "<div>\n",
       "<style scoped>\n",
       "    .dataframe tbody tr th:only-of-type {\n",
       "        vertical-align: middle;\n",
       "    }\n",
       "\n",
       "    .dataframe tbody tr th {\n",
       "        vertical-align: top;\n",
       "    }\n",
       "\n",
       "    .dataframe thead th {\n",
       "        text-align: right;\n",
       "    }\n",
       "</style>\n",
       "<table border=\"1\" class=\"dataframe\">\n",
       "  <thead>\n",
       "    <tr style=\"text-align: right;\">\n",
       "      <th></th>\n",
       "      <th>Square Feet (X)</th>\n",
       "      <th>House Price (Y)</th>\n",
       "      <th>XY</th>\n",
       "      <th>X2</th>\n",
       "    </tr>\n",
       "  </thead>\n",
       "  <tbody>\n",
       "    <tr>\n",
       "      <th>0</th>\n",
       "      <td>1400</td>\n",
       "      <td>245</td>\n",
       "      <td>343000</td>\n",
       "      <td>1960000</td>\n",
       "    </tr>\n",
       "    <tr>\n",
       "      <th>1</th>\n",
       "      <td>1600</td>\n",
       "      <td>312</td>\n",
       "      <td>499200</td>\n",
       "      <td>2560000</td>\n",
       "    </tr>\n",
       "    <tr>\n",
       "      <th>2</th>\n",
       "      <td>1700</td>\n",
       "      <td>279</td>\n",
       "      <td>474300</td>\n",
       "      <td>2890000</td>\n",
       "    </tr>\n",
       "    <tr>\n",
       "      <th>3</th>\n",
       "      <td>1875</td>\n",
       "      <td>308</td>\n",
       "      <td>577500</td>\n",
       "      <td>3515625</td>\n",
       "    </tr>\n",
       "    <tr>\n",
       "      <th>4</th>\n",
       "      <td>1100</td>\n",
       "      <td>199</td>\n",
       "      <td>218900</td>\n",
       "      <td>1210000</td>\n",
       "    </tr>\n",
       "    <tr>\n",
       "      <th>5</th>\n",
       "      <td>1550</td>\n",
       "      <td>219</td>\n",
       "      <td>339450</td>\n",
       "      <td>2402500</td>\n",
       "    </tr>\n",
       "    <tr>\n",
       "      <th>6</th>\n",
       "      <td>2350</td>\n",
       "      <td>405</td>\n",
       "      <td>951750</td>\n",
       "      <td>5522500</td>\n",
       "    </tr>\n",
       "    <tr>\n",
       "      <th>7</th>\n",
       "      <td>2450</td>\n",
       "      <td>324</td>\n",
       "      <td>793800</td>\n",
       "      <td>6002500</td>\n",
       "    </tr>\n",
       "    <tr>\n",
       "      <th>8</th>\n",
       "      <td>1425</td>\n",
       "      <td>319</td>\n",
       "      <td>454575</td>\n",
       "      <td>2030625</td>\n",
       "    </tr>\n",
       "    <tr>\n",
       "      <th>9</th>\n",
       "      <td>1700</td>\n",
       "      <td>255</td>\n",
       "      <td>433500</td>\n",
       "      <td>2890000</td>\n",
       "    </tr>\n",
       "    <tr>\n",
       "      <th>Total</th>\n",
       "      <td>17150</td>\n",
       "      <td>2865</td>\n",
       "      <td>5085975</td>\n",
       "      <td>30983750</td>\n",
       "    </tr>\n",
       "  </tbody>\n",
       "</table>\n",
       "</div>"
      ],
      "text/plain": [
       "       Square Feet (X)  House Price (Y)       XY        X2\n",
       "0                 1400              245   343000   1960000\n",
       "1                 1600              312   499200   2560000\n",
       "2                 1700              279   474300   2890000\n",
       "3                 1875              308   577500   3515625\n",
       "4                 1100              199   218900   1210000\n",
       "5                 1550              219   339450   2402500\n",
       "6                 2350              405   951750   5522500\n",
       "7                 2450              324   793800   6002500\n",
       "8                 1425              319   454575   2030625\n",
       "9                 1700              255   433500   2890000\n",
       "Total            17150             2865  5085975  30983750"
      ]
     },
     "execution_count": 3,
     "metadata": {},
     "output_type": "execute_result"
    }
   ],
   "source": [
    "# Compute for XY (X multiply by Y)\n",
    "df[\"XY\"] = df[\"Square Feet (X)\"] * df[\"House Price (Y)\"]\n",
    "\n",
    "# Compute for X2 (X squared)\n",
    "df[\"X2\"] = df[\"Square Feet (X)\"]**2\n",
    "\n",
    "# Compute for summation of each column (Ex, Ey, Exy, Exx)\n",
    "df.loc[\"Total\"] = [\n",
    "    df[\"Square Feet (X)\"].sum(),\n",
    "    df[\"House Price (Y)\"].sum(),\n",
    "    df[\"XY\"].sum(),\n",
    "    df[\"X2\"].sum(),\n",
    "]\n",
    "\n",
    "# Display the updated table\n",
    "df"
   ]
  },
  {
   "cell_type": "markdown",
   "id": "f66d91f8-5116-47f8-bc38-874b704eea15",
   "metadata": {},
   "source": [
    "## Get all the Calculated Answers and Turn into Table (See table below)"
   ]
  },
  {
   "cell_type": "code",
   "execution_count": 4,
   "id": "8abf24d9-f9d8-431b-8bea-c04fad7b7e98",
   "metadata": {},
   "outputs": [],
   "source": [
    "# Compute for the summations of columns\n",
    "Ex = df[\"Square Feet (X)\"][:-1].sum()\n",
    "Ey = df[\"House Price (Y)\"][:-1].sum()\n",
    "Exy = df[\"XY\"][:-1].sum()\n",
    "Exx = df[\"X2\"][:-1].sum()\n",
    "\n",
    "# The total population\n",
    "n = 10\n",
    "\n",
    "# Compute for X mean\n",
    "X_mean = df[\"Square Feet (X)\"][:-1].mean().round(2)\n",
    "\n",
    "# Compute for Y mean\n",
    "Y_mean = df[\"House Price (Y)\"][:-1].mean().round(2)"
   ]
  },
  {
   "cell_type": "code",
   "execution_count": 5,
   "id": "2dd59120-3c66-40d6-996b-8abf7b2cf834",
   "metadata": {
    "scrolled": true
   },
   "outputs": [
    {
     "data": {
      "text/html": [
       "<div>\n",
       "<style scoped>\n",
       "    .dataframe tbody tr th:only-of-type {\n",
       "        vertical-align: middle;\n",
       "    }\n",
       "\n",
       "    .dataframe tbody tr th {\n",
       "        vertical-align: top;\n",
       "    }\n",
       "\n",
       "    .dataframe thead th {\n",
       "        text-align: right;\n",
       "    }\n",
       "</style>\n",
       "<table border=\"1\" class=\"dataframe\">\n",
       "  <thead>\n",
       "    <tr style=\"text-align: right;\">\n",
       "      <th></th>\n",
       "      <th>0</th>\n",
       "    </tr>\n",
       "  </thead>\n",
       "  <tbody>\n",
       "    <tr>\n",
       "      <th>Ex</th>\n",
       "      <td>17150.0</td>\n",
       "    </tr>\n",
       "    <tr>\n",
       "      <th>Ey</th>\n",
       "      <td>2865.0</td>\n",
       "    </tr>\n",
       "    <tr>\n",
       "      <th>Exy</th>\n",
       "      <td>5085975.0</td>\n",
       "    </tr>\n",
       "    <tr>\n",
       "      <th>Exx</th>\n",
       "      <td>30983750.0</td>\n",
       "    </tr>\n",
       "    <tr>\n",
       "      <th>N</th>\n",
       "      <td>10.0</td>\n",
       "    </tr>\n",
       "    <tr>\n",
       "      <th>X Mean</th>\n",
       "      <td>1715.0</td>\n",
       "    </tr>\n",
       "    <tr>\n",
       "      <th>Y_mean</th>\n",
       "      <td>286.5</td>\n",
       "    </tr>\n",
       "  </tbody>\n",
       "</table>\n",
       "</div>"
      ],
      "text/plain": [
       "                 0\n",
       "Ex         17150.0\n",
       "Ey          2865.0\n",
       "Exy      5085975.0\n",
       "Exx     30983750.0\n",
       "N             10.0\n",
       "X Mean      1715.0\n",
       "Y_mean       286.5"
      ]
     },
     "execution_count": 5,
     "metadata": {},
     "output_type": "execute_result"
    }
   ],
   "source": [
    "# Turn into table\n",
    "answers = pd.DataFrame({\n",
    "    \"Ex\": [Ex],\n",
    "    \"Ey\": [Ey],\n",
    "    \"Exy\": [Exy],\n",
    "    \"Exx\": [Exx],\n",
    "    \"N\": [n],\n",
    "    \"X Mean\": [X_mean],\n",
    "    \"Y_mean\": [Y_mean],\n",
    "})\n",
    "\n",
    "answers.T"
   ]
  },
  {
   "cell_type": "markdown",
   "id": "a2c7ea2b-7666-48de-9ffb-b1cbd0f9a555",
   "metadata": {},
   "source": [
    "## Compute for SSxy\n",
    "\n",
    "![](ssxy.png)"
   ]
  },
  {
   "cell_type": "code",
   "execution_count": 6,
   "id": "d7d45a19-e3b1-41dc-84ee-9f15e5dfd48b",
   "metadata": {},
   "outputs": [
    {
     "data": {
      "text/plain": [
       "172500.0"
      ]
     },
     "execution_count": 6,
     "metadata": {},
     "output_type": "execute_result"
    }
   ],
   "source": [
    "SSxy = Exy - ((Ex * Ey) / n)\n",
    "\n",
    "SSxy"
   ]
  },
  {
   "cell_type": "markdown",
   "id": "d9bd6798-8e01-4d58-8cb8-a7a2c9b7df8f",
   "metadata": {},
   "source": [
    "# SSxy = 172,500.0\n",
    "\n",
    "---------------------------------------------------"
   ]
  },
  {
   "cell_type": "markdown",
   "id": "b08f7109-e9ec-456b-a482-479d7701f881",
   "metadata": {},
   "source": [
    "## Compute for Sxx\n",
    "\n",
    "![](sxx.png)"
   ]
  },
  {
   "cell_type": "code",
   "execution_count": 7,
   "id": "ed4a933c-2b2d-4f83-82cb-ac1c89de3273",
   "metadata": {},
   "outputs": [
    {
     "data": {
      "text/plain": [
       "1571500.0"
      ]
     },
     "execution_count": 7,
     "metadata": {},
     "output_type": "execute_result"
    }
   ],
   "source": [
    "Sxx = Exx - ((Ex**2) / n)\n",
    "\n",
    "Sxx"
   ]
  },
  {
   "cell_type": "markdown",
   "id": "d86c342f-60b4-413b-a215-86379f03c272",
   "metadata": {},
   "source": [
    "# Sxx = 1,571,500.0\n",
    "\n",
    "-------------------------"
   ]
  },
  {
   "cell_type": "markdown",
   "id": "1fde4e30-bbdb-4c39-9d0b-a16c83154af0",
   "metadata": {},
   "source": [
    "## Compute for b\n",
    "\n",
    "![](b.png)"
   ]
  },
  {
   "cell_type": "code",
   "execution_count": 8,
   "id": "a65065af-38c6-46ab-8b85-d3cc7bad533d",
   "metadata": {},
   "outputs": [
    {
     "data": {
      "text/plain": [
       "0.11"
      ]
     },
     "execution_count": 8,
     "metadata": {},
     "output_type": "execute_result"
    }
   ],
   "source": [
    "b = SSxy / Sxx\n",
    "\n",
    "b = b.round(2)\n",
    "\n",
    "b"
   ]
  },
  {
   "cell_type": "markdown",
   "id": "20e65d64-19d5-4b60-9f3e-705c164c56d6",
   "metadata": {},
   "source": [
    "# b = 0.11\n",
    "\n",
    "-----------------"
   ]
  },
  {
   "cell_type": "markdown",
   "id": "c6d9a5a5-8416-4257-9f97-3b1f4e030118",
   "metadata": {},
   "source": [
    "## Compute for a\n",
    "\n",
    "![](a.png)"
   ]
  },
  {
   "cell_type": "code",
   "execution_count": 9,
   "id": "35676292-f2b9-4a4d-b049-c7aacf93c46b",
   "metadata": {},
   "outputs": [
    {
     "data": {
      "text/plain": [
       "97.85"
      ]
     },
     "execution_count": 9,
     "metadata": {},
     "output_type": "execute_result"
    }
   ],
   "source": [
    "a = Y_mean - (b * X_mean)\n",
    "\n",
    "a = a.round(2)\n",
    "\n",
    "a"
   ]
  },
  {
   "cell_type": "markdown",
   "id": "9c244b7c-1a0e-413b-a28f-0c0b406ac10f",
   "metadata": {},
   "source": [
    "# a = 97.85\n",
    "\n",
    "--------------------"
   ]
  },
  {
   "cell_type": "code",
   "execution_count": 10,
   "id": "54add7aa-ee38-45fb-abd4-6df62bcb59d8",
   "metadata": {},
   "outputs": [
    {
     "name": "stdout",
     "output_type": "stream",
     "text": [
      "y = 97.85 + 0.11x\n"
     ]
    }
   ],
   "source": [
    "print(f\"y = {a} + {b}x\")"
   ]
  },
  {
   "cell_type": "markdown",
   "id": "fd1a0175-b2fb-4fd1-91e8-a4e1d1a671cf",
   "metadata": {},
   "source": [
    "# y = 97.85 + 0.11x"
   ]
  },
  {
   "cell_type": "markdown",
   "id": "2929338b-2c58-488c-bc37-6435d997c56d",
   "metadata": {},
   "source": [
    "## Interpretation of a\n",
    "\n",
    "Consider the house with 0 square feet\n",
    "- y = 97.85 + 0.11(0) = $97.85\n",
    "\n",
    "We can state that house with zero square feet is expected to have a selling price of $97.85\n",
    "\n",
    "## Interpretation of b\n",
    "\n",
    "The model gives the change in y due to change of one unit in x.\n",
    "\n",
    "an increase in square feet of house size will increase the housing price by $0.11"
   ]
  },
  {
   "cell_type": "markdown",
   "id": "88584a72-7834-47a3-b51f-4c4429941c5e",
   "metadata": {},
   "source": [
    "----------------------\n",
    "\n",
    "## Visualizing The Data"
   ]
  },
  {
   "cell_type": "code",
   "execution_count": 11,
   "id": "0090d97e-6e3f-44f2-b6f5-81a9f4c4a1d5",
   "metadata": {},
   "outputs": [
    {
     "data": {
      "image/png": "[encoded data removed]",
      "text/plain": [
       "<Figure size 640x480 with 1 Axes>"
      ]
     },
     "metadata": {},
     "output_type": "display_data"
    }
   ],
   "source": [
    "# Calculate the slope and intercept for the regression line\n",
    "slope, intercept = np.polyfit(df_tmp[\"Square Feet (X)\"], df_tmp[\"House Price (Y)\"], 1)\n",
    "\n",
    "# Plotting the scatter plot\n",
    "plt.scatter(df_tmp[\"Square Feet (X)\"], df_tmp[\"House Price (Y)\"], color='blue')\n",
    "\n",
    "# Adding the linear regression line\n",
    "plt.plot(df_tmp[\"Square Feet (X)\"], slope * df_tmp[\"Square Feet (X)\"] + intercept, color='black', label='Regression Line')\n",
    "\n",
    "# Adding labels and title\n",
    "plt.xlabel('Square Feet (X)')\n",
    "plt.ylabel('House Price (Y)')\n",
    "plt.title('Housing Price vs Square Feet')\n",
    "\n",
    "# Adding legend\n",
    "plt.legend()\n",
    "\n",
    "# Displaying the plot\n",
    "plt.show()"
   ]
  },
  {
   "cell_type": "markdown",
   "id": "59e9a91c-c9ac-4d4e-8e3f-4703bc1d5032",
   "metadata": {},
   "source": [
    "### Seems like a weak relationship"
   ]
  },
  {
   "cell_type": "code",
   "execution_count": null,
   "id": "1482a44e-50b8-4c46-840e-e872c6e02474",
   "metadata": {},
   "outputs": [],
   "source": []
  }
 ],
 "metadata": {
  "kernelspec": {
   "display_name": "Python 3 (ipykernel)",
   "language": "python",
   "name": "python3"
  },
  "language_info": {
   "codemirror_mode": {
    "name": "ipython",
    "version": 3
   },
   "file_extension": ".py",
   "mimetype": "text/x-python",
   "name": "python",
   "nbconvert_exporter": "python",
   "pygments_lexer": "ipython3",
   "version": "3.11.5"
  }
 },
 "nbformat": 4,
 "nbformat_minor": 5
}
